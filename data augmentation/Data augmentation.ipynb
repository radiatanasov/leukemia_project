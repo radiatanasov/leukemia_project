{
 "cells": [
  {
   "cell_type": "code",
   "execution_count": 1,
   "id": "b86728eb",
   "metadata": {},
   "outputs": [
    {
     "name": "stderr",
     "output_type": "stream",
     "text": [
      "Copying files: 260 files [00:01, 179.79 files/s]\n"
     ]
    }
   ],
   "source": [
    "import splitfolders\n",
    "input_folder=\"C:/Users/radi2/Desktop/Data augmentation/cells\"\n",
    "output=\"C:/Users/radi2/Desktop/Data augmentation/prepared data\"\n",
    "splitfolders.ratio(input_folder, output, \n",
    "                   seed=42, ratio=(.6, .2, .2), group_prefix=None)"
   ]
  },
  {
   "cell_type": "code",
   "execution_count": 45,
   "id": "1a95bfd9",
   "metadata": {},
   "outputs": [
    {
     "name": "stdout",
     "output_type": "stream",
     "text": [
      "Found 78 images belonging to 1 classes.\n",
      "Found 26 images belonging to 1 classes.\n"
     ]
    }
   ],
   "source": [
    "train_dir = 'C:/Users/radi2/Desktop/Data augmentation/prepared data/train'\n",
    "test_dir = 'C:/Users/radi2/Desktop/Data augmentation/prepared data/test'\n",
    "\n",
    "train_datagen = ImageDataGenerator(\n",
    "    rotation_range=45,\n",
    "    width_shift_range=0.1,\n",
    "    height_shift_range=0.1,\n",
    "    shear_range=0.2,\n",
    "    zoom_range=0.2,\n",
    "    horizontal_flip=True,\n",
    "    vertical_flip=True,\n",
    ")\n",
    "\n",
    "test_datagen = ImageDataGenerator(rescale=1./255)\n",
    "\n",
    "train_normal_generator = train_datagen.flow_from_directory(\n",
    "    train_dir,\n",
    "    target_size=(150, 150),\n",
    "    batch_size=32,\n",
    "    class_mode='binary',\n",
    "    classes=['normal'],\n",
    "    save_to_dir='C:/Users/radi2/Desktop/Data augmentation/DA dataset/train/normal'\n",
    ")\n",
    "\n",
    "validation_generator = test_datagen.flow_from_directory(\n",
    "    test_dir,\n",
    "    target_size=(150,150),\n",
    "    batch_size=32,\n",
    "     classes=['normal'],\n",
    "    class_mode='binary'\n",
    ")\n",
    "\n",
    "for i in range(5):\n",
    "    batch = train_normal_generator.next()\n"
   ]
  },
  {
   "cell_type": "code",
   "execution_count": 44,
   "id": "7fbcf5bc",
   "metadata": {},
   "outputs": [
    {
     "name": "stdout",
     "output_type": "stream",
     "text": [
      "Found 78 images belonging to 1 classes.\n",
      "Found 26 images belonging to 1 classes.\n"
     ]
    }
   ],
   "source": [
    "train_dir_blast = 'C:/Users/radi2/Desktop/Data augmentation/prepared data/train'\n",
    "test_dir_blast = 'C:/Users/radi2/Desktop/Data augmentation/prepared data/test'\n",
    "\n",
    "train_datagen = ImageDataGenerator(\n",
    "     rotation_range=45,\n",
    "    width_shift_range=0.1,\n",
    "    height_shift_range=0.1,\n",
    "    shear_range=0.2,\n",
    "    zoom_range=0.2,\n",
    "    horizontal_flip=True,\n",
    "    vertical_flip=True,\n",
    ")\n",
    "\n",
    "test_datagen = ImageDataGenerator(rescale=1./255)\n",
    "\n",
    "train_normal_generator = train_datagen.flow_from_directory(\n",
    "    train_dir,\n",
    "    target_size=(150, 150),\n",
    "    batch_size=32,\n",
    "    class_mode='binary',\n",
    "    classes=['blast'],\n",
    "    save_to_dir='C:/Users/radi2/Desktop/Data augmentation/DA dataset/train/blast'\n",
    ")\n",
    "\n",
    "validation_generator = test_datagen.flow_from_directory(\n",
    "    test_dir,\n",
    "    target_size=(224, 224),\n",
    "    batch_size=32,\n",
    "     classes=['blast'],\n",
    "    class_mode='binary'\n",
    ")\n",
    "\n",
    "for i in range(5):\n",
    "    batch = train_normal_generator.next()\n"
   ]
  },
  {
   "cell_type": "code",
   "execution_count": null,
   "id": "ed19a3c5",
   "metadata": {},
   "outputs": [],
   "source": []
  },
  {
   "cell_type": "code",
   "execution_count": null,
   "id": "380f5728",
   "metadata": {},
   "outputs": [],
   "source": []
  }
 ],
 "metadata": {
  "kernelspec": {
   "display_name": "Python 3 (ipykernel)",
   "language": "python",
   "name": "python3"
  },
  "language_info": {
   "codemirror_mode": {
    "name": "ipython",
    "version": 3
   },
   "file_extension": ".py",
   "mimetype": "text/x-python",
   "name": "python",
   "nbconvert_exporter": "python",
   "pygments_lexer": "ipython3",
   "version": "3.9.13"
  }
 },
 "nbformat": 4,
 "nbformat_minor": 5
}
